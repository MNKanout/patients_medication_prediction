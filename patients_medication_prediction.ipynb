{
 "cells": [
  {
   "cell_type": "markdown",
   "id": "aa8cb720",
   "metadata": {
    "papermill": {
     "duration": 0.016739,
     "end_time": "2021-12-23T12:42:05.937553",
     "exception": false,
     "start_time": "2021-12-23T12:42:05.920814",
     "status": "completed"
    },
    "tags": []
   },
   "source": [
    "# Select proper medication based on patient symptoms\n",
    "# Classification (Decision trees)"
   ]
  },
  {
   "cell_type": "markdown",
   "id": "2628ae7b",
   "metadata": {},
   "source": [
    "## Project aim:\n",
    "The aim of the project is to create a model that can help medical professionals select the proper medication for patients based on their symptoms. The model uses historical data of other patients to predict what could be the most suitable medication based on the patient's symptoms. "
   ]
  },
  {
   "cell_type": "code",
   "execution_count": 17,
   "id": "4299ec9c",
   "metadata": {
    "_cell_guid": "b1076dfc-b9ad-4769-8c92-a6c4dae69d19",
    "_uuid": "8f2839f25d086af736a60e9eeb907d3b93b6e0e5",
    "execution": {
     "iopub.execute_input": "2021-12-23T12:42:05.972306Z",
     "iopub.status.busy": "2021-12-23T12:42:05.971234Z",
     "iopub.status.idle": "2021-12-23T12:42:07.322064Z",
     "shell.execute_reply": "2021-12-23T12:42:07.321037Z",
     "shell.execute_reply.started": "2021-12-23T12:40:36.000861Z"
    },
    "papermill": {
     "duration": 1.369246,
     "end_time": "2021-12-23T12:42:07.322228",
     "exception": false,
     "start_time": "2021-12-23T12:42:05.952982",
     "status": "completed"
    },
    "tags": []
   },
   "outputs": [],
   "source": [
    "import pandas as pd\n",
    "import numpy as np\n",
    "import matplotlib.pyplot as plt\n",
    "import seaborn as sns\n",
    "from numpy import corrcoef\n",
    "from sklearn.preprocessing import normalize\n",
    "from sklearn.model_selection import train_test_split, cross_val_score\n",
    "from sklearn.tree import DecisionTreeClassifier\n",
    "from sklearn.metrics import r2_score"
   ]
  },
  {
   "cell_type": "markdown",
   "id": "6ae55c87",
   "metadata": {
    "papermill": {
     "duration": 0.015186,
     "end_time": "2021-12-23T12:42:07.352770",
     "exception": false,
     "start_time": "2021-12-23T12:42:07.337584",
     "status": "completed"
    },
    "tags": []
   },
   "source": [
    "## Descriptive Analysis"
   ]
  },
  {
   "cell_type": "code",
   "execution_count": 2,
   "id": "be55d34b",
   "metadata": {
    "execution": {
     "iopub.execute_input": "2021-12-23T12:42:07.386810Z",
     "iopub.status.busy": "2021-12-23T12:42:07.386198Z",
     "iopub.status.idle": "2021-12-23T12:42:07.405482Z",
     "shell.execute_reply": "2021-12-23T12:42:07.405992Z",
     "shell.execute_reply.started": "2021-12-23T12:40:37.632190Z"
    },
    "papermill": {
     "duration": 0.037809,
     "end_time": "2021-12-23T12:42:07.406168",
     "exception": false,
     "start_time": "2021-12-23T12:42:07.368359",
     "status": "completed"
    },
    "tags": []
   },
   "outputs": [],
   "source": [
    "# Read data from CSV file, and loaded into a pandas dataframe \n",
    "df = pd.read_csv('drug200.csv')"
   ]
  },
  {
   "cell_type": "code",
   "execution_count": 3,
   "id": "571d7872",
   "metadata": {
    "execution": {
     "iopub.execute_input": "2021-12-23T12:42:07.440923Z",
     "iopub.status.busy": "2021-12-23T12:42:07.440268Z",
     "iopub.status.idle": "2021-12-23T12:42:07.465597Z",
     "shell.execute_reply": "2021-12-23T12:42:07.466080Z",
     "shell.execute_reply.started": "2021-12-23T12:40:37.656053Z"
    },
    "papermill": {
     "duration": 0.043924,
     "end_time": "2021-12-23T12:42:07.466261",
     "exception": false,
     "start_time": "2021-12-23T12:42:07.422337",
     "status": "completed"
    },
    "tags": []
   },
   "outputs": [
    {
     "data": {
      "text/html": [
       "<div>\n",
       "<style scoped>\n",
       "    .dataframe tbody tr th:only-of-type {\n",
       "        vertical-align: middle;\n",
       "    }\n",
       "\n",
       "    .dataframe tbody tr th {\n",
       "        vertical-align: top;\n",
       "    }\n",
       "\n",
       "    .dataframe thead th {\n",
       "        text-align: right;\n",
       "    }\n",
       "</style>\n",
       "<table border=\"1\" class=\"dataframe\">\n",
       "  <thead>\n",
       "    <tr style=\"text-align: right;\">\n",
       "      <th></th>\n",
       "      <th>Age</th>\n",
       "      <th>Sex</th>\n",
       "      <th>BP</th>\n",
       "      <th>Cholesterol</th>\n",
       "      <th>Na_to_K</th>\n",
       "      <th>Drug</th>\n",
       "    </tr>\n",
       "  </thead>\n",
       "  <tbody>\n",
       "    <tr>\n",
       "      <th>4</th>\n",
       "      <td>61</td>\n",
       "      <td>F</td>\n",
       "      <td>LOW</td>\n",
       "      <td>HIGH</td>\n",
       "      <td>18.043</td>\n",
       "      <td>drugY</td>\n",
       "    </tr>\n",
       "    <tr>\n",
       "      <th>121</th>\n",
       "      <td>15</td>\n",
       "      <td>M</td>\n",
       "      <td>HIGH</td>\n",
       "      <td>NORMAL</td>\n",
       "      <td>17.206</td>\n",
       "      <td>drugY</td>\n",
       "    </tr>\n",
       "    <tr>\n",
       "      <th>73</th>\n",
       "      <td>41</td>\n",
       "      <td>F</td>\n",
       "      <td>NORMAL</td>\n",
       "      <td>NORMAL</td>\n",
       "      <td>22.905</td>\n",
       "      <td>drugY</td>\n",
       "    </tr>\n",
       "    <tr>\n",
       "      <th>189</th>\n",
       "      <td>64</td>\n",
       "      <td>M</td>\n",
       "      <td>HIGH</td>\n",
       "      <td>NORMAL</td>\n",
       "      <td>20.932</td>\n",
       "      <td>drugY</td>\n",
       "    </tr>\n",
       "    <tr>\n",
       "      <th>45</th>\n",
       "      <td>66</td>\n",
       "      <td>F</td>\n",
       "      <td>NORMAL</td>\n",
       "      <td>NORMAL</td>\n",
       "      <td>8.107</td>\n",
       "      <td>drugX</td>\n",
       "    </tr>\n",
       "    <tr>\n",
       "      <th>57</th>\n",
       "      <td>40</td>\n",
       "      <td>M</td>\n",
       "      <td>HIGH</td>\n",
       "      <td>HIGH</td>\n",
       "      <td>27.826</td>\n",
       "      <td>drugY</td>\n",
       "    </tr>\n",
       "    <tr>\n",
       "      <th>191</th>\n",
       "      <td>23</td>\n",
       "      <td>M</td>\n",
       "      <td>HIGH</td>\n",
       "      <td>HIGH</td>\n",
       "      <td>8.011</td>\n",
       "      <td>drugA</td>\n",
       "    </tr>\n",
       "    <tr>\n",
       "      <th>109</th>\n",
       "      <td>23</td>\n",
       "      <td>M</td>\n",
       "      <td>NORMAL</td>\n",
       "      <td>HIGH</td>\n",
       "      <td>16.850</td>\n",
       "      <td>drugY</td>\n",
       "    </tr>\n",
       "    <tr>\n",
       "      <th>183</th>\n",
       "      <td>36</td>\n",
       "      <td>F</td>\n",
       "      <td>HIGH</td>\n",
       "      <td>NORMAL</td>\n",
       "      <td>15.490</td>\n",
       "      <td>drugY</td>\n",
       "    </tr>\n",
       "    <tr>\n",
       "      <th>180</th>\n",
       "      <td>22</td>\n",
       "      <td>F</td>\n",
       "      <td>HIGH</td>\n",
       "      <td>NORMAL</td>\n",
       "      <td>22.818</td>\n",
       "      <td>drugY</td>\n",
       "    </tr>\n",
       "    <tr>\n",
       "      <th>156</th>\n",
       "      <td>31</td>\n",
       "      <td>M</td>\n",
       "      <td>HIGH</td>\n",
       "      <td>NORMAL</td>\n",
       "      <td>11.227</td>\n",
       "      <td>drugA</td>\n",
       "    </tr>\n",
       "    <tr>\n",
       "      <th>93</th>\n",
       "      <td>42</td>\n",
       "      <td>F</td>\n",
       "      <td>LOW</td>\n",
       "      <td>NORMAL</td>\n",
       "      <td>29.271</td>\n",
       "      <td>drugY</td>\n",
       "    </tr>\n",
       "    <tr>\n",
       "      <th>154</th>\n",
       "      <td>37</td>\n",
       "      <td>M</td>\n",
       "      <td>LOW</td>\n",
       "      <td>NORMAL</td>\n",
       "      <td>16.724</td>\n",
       "      <td>drugY</td>\n",
       "    </tr>\n",
       "    <tr>\n",
       "      <th>185</th>\n",
       "      <td>57</td>\n",
       "      <td>F</td>\n",
       "      <td>NORMAL</td>\n",
       "      <td>NORMAL</td>\n",
       "      <td>25.893</td>\n",
       "      <td>drugY</td>\n",
       "    </tr>\n",
       "    <tr>\n",
       "      <th>48</th>\n",
       "      <td>23</td>\n",
       "      <td>M</td>\n",
       "      <td>NORMAL</td>\n",
       "      <td>HIGH</td>\n",
       "      <td>31.686</td>\n",
       "      <td>drugY</td>\n",
       "    </tr>\n",
       "    <tr>\n",
       "      <th>160</th>\n",
       "      <td>30</td>\n",
       "      <td>F</td>\n",
       "      <td>NORMAL</td>\n",
       "      <td>HIGH</td>\n",
       "      <td>10.443</td>\n",
       "      <td>drugX</td>\n",
       "    </tr>\n",
       "    <tr>\n",
       "      <th>65</th>\n",
       "      <td>68</td>\n",
       "      <td>F</td>\n",
       "      <td>NORMAL</td>\n",
       "      <td>NORMAL</td>\n",
       "      <td>27.050</td>\n",
       "      <td>drugY</td>\n",
       "    </tr>\n",
       "    <tr>\n",
       "      <th>15</th>\n",
       "      <td>16</td>\n",
       "      <td>F</td>\n",
       "      <td>HIGH</td>\n",
       "      <td>NORMAL</td>\n",
       "      <td>15.516</td>\n",
       "      <td>drugY</td>\n",
       "    </tr>\n",
       "    <tr>\n",
       "      <th>193</th>\n",
       "      <td>72</td>\n",
       "      <td>M</td>\n",
       "      <td>LOW</td>\n",
       "      <td>HIGH</td>\n",
       "      <td>6.769</td>\n",
       "      <td>drugC</td>\n",
       "    </tr>\n",
       "    <tr>\n",
       "      <th>63</th>\n",
       "      <td>45</td>\n",
       "      <td>M</td>\n",
       "      <td>LOW</td>\n",
       "      <td>NORMAL</td>\n",
       "      <td>8.370</td>\n",
       "      <td>drugX</td>\n",
       "    </tr>\n",
       "  </tbody>\n",
       "</table>\n",
       "</div>"
      ],
      "text/plain": [
       "     Age Sex      BP Cholesterol  Na_to_K   Drug\n",
       "4     61   F     LOW        HIGH   18.043  drugY\n",
       "121   15   M    HIGH      NORMAL   17.206  drugY\n",
       "73    41   F  NORMAL      NORMAL   22.905  drugY\n",
       "189   64   M    HIGH      NORMAL   20.932  drugY\n",
       "45    66   F  NORMAL      NORMAL    8.107  drugX\n",
       "57    40   M    HIGH        HIGH   27.826  drugY\n",
       "191   23   M    HIGH        HIGH    8.011  drugA\n",
       "109   23   M  NORMAL        HIGH   16.850  drugY\n",
       "183   36   F    HIGH      NORMAL   15.490  drugY\n",
       "180   22   F    HIGH      NORMAL   22.818  drugY\n",
       "156   31   M    HIGH      NORMAL   11.227  drugA\n",
       "93    42   F     LOW      NORMAL   29.271  drugY\n",
       "154   37   M     LOW      NORMAL   16.724  drugY\n",
       "185   57   F  NORMAL      NORMAL   25.893  drugY\n",
       "48    23   M  NORMAL        HIGH   31.686  drugY\n",
       "160   30   F  NORMAL        HIGH   10.443  drugX\n",
       "65    68   F  NORMAL      NORMAL   27.050  drugY\n",
       "15    16   F    HIGH      NORMAL   15.516  drugY\n",
       "193   72   M     LOW        HIGH    6.769  drugC\n",
       "63    45   M     LOW      NORMAL    8.370  drugX"
      ]
     },
     "execution_count": 3,
     "metadata": {},
     "output_type": "execute_result"
    }
   ],
   "source": [
    "# Display 20 random samples of the dataframe\n",
    "df.sample(20)"
   ]
  },
  {
   "cell_type": "code",
   "execution_count": 4,
   "id": "d94671d5",
   "metadata": {
    "execution": {
     "iopub.execute_input": "2021-12-23T12:42:07.501817Z",
     "iopub.status.busy": "2021-12-23T12:42:07.501174Z",
     "iopub.status.idle": "2021-12-23T12:42:07.521532Z",
     "shell.execute_reply": "2021-12-23T12:42:07.522222Z",
     "shell.execute_reply.started": "2021-12-23T12:40:37.689860Z"
    },
    "papermill": {
     "duration": 0.03948,
     "end_time": "2021-12-23T12:42:07.522482",
     "exception": false,
     "start_time": "2021-12-23T12:42:07.483002",
     "status": "completed"
    },
    "tags": []
   },
   "outputs": [
    {
     "name": "stdout",
     "output_type": "stream",
     "text": [
      "<class 'pandas.core.frame.DataFrame'>\n",
      "RangeIndex: 200 entries, 0 to 199\n",
      "Data columns (total 6 columns):\n",
      " #   Column       Non-Null Count  Dtype  \n",
      "---  ------       --------------  -----  \n",
      " 0   Age          200 non-null    int64  \n",
      " 1   Sex          200 non-null    object \n",
      " 2   BP           200 non-null    object \n",
      " 3   Cholesterol  200 non-null    object \n",
      " 4   Na_to_K      200 non-null    float64\n",
      " 5   Drug         200 non-null    object \n",
      "dtypes: float64(1), int64(1), object(4)\n",
      "memory usage: 9.5+ KB\n"
     ]
    }
   ],
   "source": [
    "# Display the dataset information summary \n",
    "df.info()"
   ]
  },
  {
   "cell_type": "code",
   "execution_count": 5,
   "id": "fc6d49c0",
   "metadata": {
    "execution": {
     "iopub.execute_input": "2021-12-23T12:42:07.560570Z",
     "iopub.status.busy": "2021-12-23T12:42:07.558948Z",
     "iopub.status.idle": "2021-12-23T12:42:07.565639Z",
     "shell.execute_reply": "2021-12-23T12:42:07.566101Z",
     "shell.execute_reply.started": "2021-12-23T12:40:37.718109Z"
    },
    "papermill": {
     "duration": 0.026342,
     "end_time": "2021-12-23T12:42:07.566274",
     "exception": false,
     "start_time": "2021-12-23T12:42:07.539932",
     "status": "completed"
    },
    "tags": []
   },
   "outputs": [
    {
     "data": {
      "text/plain": [
       "Age            0\n",
       "Sex            0\n",
       "BP             0\n",
       "Cholesterol    0\n",
       "Na_to_K        0\n",
       "Drug           0\n",
       "dtype: int64"
      ]
     },
     "execution_count": 5,
     "metadata": {},
     "output_type": "execute_result"
    }
   ],
   "source": [
    "# Check for missing values\n",
    "df.isna().sum()"
   ]
  },
  {
   "cell_type": "code",
   "execution_count": 6,
   "id": "8a49c10b",
   "metadata": {},
   "outputs": [
    {
     "data": {
      "text/plain": [
       "Age             57\n",
       "Sex              2\n",
       "BP               3\n",
       "Cholesterol      2\n",
       "Na_to_K        198\n",
       "Drug             5\n",
       "dtype: int64"
      ]
     },
     "execution_count": 6,
     "metadata": {},
     "output_type": "execute_result"
    }
   ],
   "source": [
    "# Check the number of unique values for each variable\n",
    "df.nunique()"
   ]
  },
  {
   "cell_type": "markdown",
   "id": "ee5ce46f",
   "metadata": {},
   "source": [
    "### Conclusion\n",
    "Based on our descriptive analysis, we conclude the following:\n",
    "- The dataset contains 200 samples.\n",
    "- The dataset consists of 5 independent variables and one dependent variable.\n",
    "- The dataset contains 4 numerical variables and 2 string/object variables.\n",
    "- There are no missing values in the dataset.\n",
    "- There are 5 possible outcomes of the dependant variable."
   ]
  },
  {
   "cell_type": "markdown",
   "id": "7dfae03e",
   "metadata": {},
   "source": [
    "## Exploratory Data Analysis (EDA)\n",
    "### Multivariate analysis (Correlation)"
   ]
  },
  {
   "cell_type": "code",
   "execution_count": 7,
   "id": "4bf5d4b2",
   "metadata": {},
   "outputs": [],
   "source": [
    "# Create a copy of the dataframe\n",
    "numerical_df = df.copy()\n",
    "# Convert the object variables into numerical values\n",
    "numerical_df['Cholesterol'] = numerical_df['Cholesterol'].astype('category').cat.codes\n",
    "numerical_df['Sex'] = numerical_df['Sex'].astype('category').cat.codes\n",
    "numerical_df['BP'] = numerical_df['BP'].astype('category').cat.codes\n",
    "numerical_df['Drug'] = numerical_df['Drug'].astype('category').cat.codes"
   ]
  },
  {
   "cell_type": "code",
   "execution_count": 8,
   "id": "c751ba41",
   "metadata": {},
   "outputs": [
    {
     "name": "stdout",
     "output_type": "stream",
     "text": [
      "<class 'pandas.core.frame.DataFrame'>\n",
      "RangeIndex: 200 entries, 0 to 199\n",
      "Data columns (total 6 columns):\n",
      " #   Column       Non-Null Count  Dtype  \n",
      "---  ------       --------------  -----  \n",
      " 0   Age          200 non-null    int64  \n",
      " 1   Sex          200 non-null    int8   \n",
      " 2   BP           200 non-null    int8   \n",
      " 3   Cholesterol  200 non-null    int8   \n",
      " 4   Na_to_K      200 non-null    float64\n",
      " 5   Drug         200 non-null    int8   \n",
      "dtypes: float64(1), int64(1), int8(4)\n",
      "memory usage: 4.0 KB\n"
     ]
    }
   ],
   "source": [
    "# Display a summary of the new copied dataset\n",
    "numerical_df.info()"
   ]
  },
  {
   "cell_type": "code",
   "execution_count": 9,
   "id": "ae8f9aef",
   "metadata": {},
   "outputs": [
    {
     "data": {
      "image/png": "[encoded data removed]",
      "text/plain": [
       "<Figure size 1080x720 with 2 Axes>"
      ]
     },
     "metadata": {
      "needs_background": "light"
     },
     "output_type": "display_data"
    }
   ],
   "source": [
    "# Correlation heatmap\n",
    "fig, ax = plt.subplots(figsize=(15,10))\n",
    "\n",
    "# plotting correlation heatmap\n",
    "dataplot = sns.heatmap(numerical_df.corr(), cmap=\"YlGnBu\", annot=True)\n",
    "\n",
    "# Display heatmap\n",
    "plt.show()"
   ]
  },
  {
   "cell_type": "code",
   "execution_count": 10,
   "id": "d55c4ecf",
   "metadata": {
    "execution": {
     "iopub.execute_input": "2021-12-23T12:42:07.725903Z",
     "iopub.status.busy": "2021-12-23T12:42:07.725198Z",
     "iopub.status.idle": "2021-12-23T12:42:07.727826Z",
     "shell.execute_reply": "2021-12-23T12:42:07.728236Z",
     "shell.execute_reply.started": "2021-12-23T12:40:37.761417Z"
    },
    "papermill": {
     "duration": 0.02746,
     "end_time": "2021-12-23T12:42:07.728428",
     "exception": false,
     "start_time": "2021-12-23T12:42:07.700968",
     "status": "completed"
    },
    "tags": []
   },
   "outputs": [],
   "source": [
    "# Separating the independent variables (symptoms) from the dependent variable (drug)\n",
    "df_x = numerical_df.drop(columns=['Drug'])\n",
    "df_y = numerical_df[['Drug']]"
   ]
  },
  {
   "cell_type": "markdown",
   "id": "430f7187",
   "metadata": {
    "papermill": {
     "duration": 0.018522,
     "end_time": "2021-12-23T12:42:07.997549",
     "exception": false,
     "start_time": "2021-12-23T12:42:07.979027",
     "status": "completed"
    },
    "tags": []
   },
   "source": [
    "## Model training"
   ]
  },
  {
   "cell_type": "code",
   "execution_count": 11,
   "id": "cc2716fc",
   "metadata": {
    "execution": {
     "iopub.execute_input": "2021-12-23T12:42:08.087582Z",
     "iopub.status.busy": "2021-12-23T12:42:08.086915Z",
     "iopub.status.idle": "2021-12-23T12:42:08.095177Z",
     "shell.execute_reply": "2021-12-23T12:42:08.094636Z",
     "shell.execute_reply.started": "2021-12-23T12:40:37.897780Z"
    },
    "papermill": {
     "duration": 0.02884,
     "end_time": "2021-12-23T12:42:08.095316",
     "exception": false,
     "start_time": "2021-12-23T12:42:08.066476",
     "status": "completed"
    },
    "tags": []
   },
   "outputs": [],
   "source": [
    "# Splitting the dataset into %70 training set, and %30 testing set'\n",
    "x_train, x_test, y_train, y_test = train_test_split(df_x, df_y, test_size=0.3,random_state=10)"
   ]
  },
  {
   "cell_type": "code",
   "execution_count": 12,
   "id": "dff7868b",
   "metadata": {
    "execution": {
     "iopub.execute_input": "2021-12-23T12:42:08.142184Z",
     "iopub.status.busy": "2021-12-23T12:42:08.141433Z",
     "iopub.status.idle": "2021-12-23T12:42:08.144513Z",
     "shell.execute_reply": "2021-12-23T12:42:08.144939Z",
     "shell.execute_reply.started": "2021-12-23T12:40:37.915996Z"
    },
    "papermill": {
     "duration": 0.030558,
     "end_time": "2021-12-23T12:42:08.145102",
     "exception": false,
     "start_time": "2021-12-23T12:42:08.114544",
     "status": "completed"
    },
    "tags": []
   },
   "outputs": [
    {
     "name": "stdout",
     "output_type": "stream",
     "text": [
      "Training set:(140, 5),(140, 1)\n",
      " Testing set:(60, 5),(60, 1)\n"
     ]
    }
   ],
   "source": [
    "print(f'Training set:{x_train.shape},{y_train.shape}\\n Testing set:{x_test.shape},{y_test.shape}')"
   ]
  },
  {
   "cell_type": "code",
   "execution_count": 46,
   "id": "b7057f9b",
   "metadata": {
    "execution": {
     "iopub.execute_input": "2021-12-23T12:42:08.276660Z",
     "iopub.status.busy": "2021-12-23T12:42:08.275908Z",
     "iopub.status.idle": "2021-12-23T12:42:08.277953Z",
     "shell.execute_reply": "2021-12-23T12:42:08.278447Z",
     "shell.execute_reply.started": "2021-12-23T12:40:37.949741Z"
    },
    "papermill": {
     "duration": 0.026806,
     "end_time": "2021-12-23T12:42:08.278622",
     "exception": false,
     "start_time": "2021-12-23T12:42:08.251816",
     "status": "completed"
    },
    "tags": []
   },
   "outputs": [
    {
     "data": {
      "text/plain": [
       "DecisionTreeClassifier(random_state=0)"
      ]
     },
     "execution_count": 46,
     "metadata": {},
     "output_type": "execute_result"
    }
   ],
   "source": [
    "# Instantiating a decision tree classifier model\n",
    "clf = DecisionTreeClassifier(criterion='gini',random_state=0, splitter='best')\n",
    "\n",
    "# Training the model\n",
    "clf.fit(x_train,y_train)"
   ]
  },
  {
   "cell_type": "markdown",
   "id": "5ade0dba",
   "metadata": {},
   "source": [
    "### Model validation"
   ]
  },
  {
   "cell_type": "code",
   "execution_count": 47,
   "id": "1d0fc742",
   "metadata": {},
   "outputs": [],
   "source": [
    "# Using the model to predict the proper medication using the testing set\n",
    "y_predict = clf.predict(x_test)"
   ]
  },
  {
   "cell_type": "code",
   "execution_count": 48,
   "id": "6df1b4db",
   "metadata": {},
   "outputs": [
    {
     "data": {
      "text/plain": [
       "0.9838947792242652"
      ]
     },
     "execution_count": 48,
     "metadata": {},
     "output_type": "execute_result"
    }
   ],
   "source": [
    "# Measuring the goodness of the model fit using the coefficient of determination\n",
    "r2_score(y_predict,y_test)"
   ]
  },
  {
   "cell_type": "code",
   "execution_count": 50,
   "id": "8c39ca0f",
   "metadata": {
    "execution": {
     "iopub.execute_input": "2021-12-23T12:42:08.467182Z",
     "iopub.status.busy": "2021-12-23T12:42:08.466589Z",
     "iopub.status.idle": "2021-12-23T12:42:08.473068Z",
     "shell.execute_reply": "2021-12-23T12:42:08.473607Z",
     "shell.execute_reply.started": "2021-12-23T12:40:38.047190Z"
    },
    "papermill": {
     "duration": 0.028607,
     "end_time": "2021-12-23T12:42:08.473788",
     "exception": false,
     "start_time": "2021-12-23T12:42:08.445181",
     "status": "completed"
    },
    "tags": []
   },
   "outputs": [
    {
     "data": {
      "text/plain": [
       "0.9666666666666667"
      ]
     },
     "execution_count": 50,
     "metadata": {},
     "output_type": "execute_result"
    }
   ],
   "source": [
    "# The model accuracy score\n",
    "clf.score(x_test,y_test)"
   ]
  },
  {
   "cell_type": "markdown",
   "id": "ab1d3b7e",
   "metadata": {},
   "source": [
    "# Conclusion\n",
    "Using the decision trees machine learning algorithm, we were able to build a model that can predict the proper medication for patients using historical data of other patiotns with an accuracy of %96."
   ]
  }
 ],
 "metadata": {
  "kernelspec": {
   "display_name": "Python 3 (ipykernel)",
   "language": "python",
   "name": "python3"
  },
  "language_info": {
   "codemirror_mode": {
    "name": "ipython",
    "version": 3
   },
   "file_extension": ".py",
   "mimetype": "text/x-python",
   "name": "python",
   "nbconvert_exporter": "python",
   "pygments_lexer": "ipython3",
   "version": "3.9.12"
  },
  "papermill": {
   "default_parameters": {},
   "duration": 11.89175,
   "end_time": "2021-12-23T12:42:09.251600",
   "environment_variables": {},
   "exception": null,
   "input_path": "__notebook__.ipynb",
   "output_path": "__notebook__.ipynb",
   "parameters": {},
   "start_time": "2021-12-23T12:41:57.359850",
   "version": "2.3.3"
  }
 },
 "nbformat": 4,
 "nbformat_minor": 5
}
